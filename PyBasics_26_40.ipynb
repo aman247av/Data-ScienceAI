{
 "cells": [
  {
   "cell_type": "markdown",
   "id": "f77ed60d",
   "metadata": {},
   "source": [
    "#This is first"
   ]
  },
  {
   "cell_type": "markdown",
   "id": "f746661a",
   "metadata": {},
   "source": [
    "this is our"
   ]
  },
  {
   "cell_type": "code",
   "execution_count": 4,
   "id": "ae450a95",
   "metadata": {},
   "outputs": [
    {
     "name": "stdout",
     "output_type": "stream",
     "text": [
      "Hello World\n"
     ]
    }
   ],
   "source": [
    "print(\"Hello World\")"
   ]
  },
  {
   "cell_type": "markdown",
   "id": "843341b3",
   "metadata": {},
   "source": [
    "$a=b+c$"
   ]
  },
  {
   "cell_type": "code",
   "execution_count": 10,
   "id": "3e2519be",
   "metadata": {},
   "outputs": [],
   "source": [
    "# $a=b+c$ "
   ]
  },
  {
   "cell_type": "code",
   "execution_count": 2,
   "id": "45b25228",
   "metadata": {},
   "outputs": [
    {
     "name": "stdout",
     "output_type": "stream",
     "text": [
      "10\n"
     ]
    }
   ],
   "source": [
    "print (\"10\")"
   ]
  },
  {
   "cell_type": "code",
   "execution_count": 11,
   "id": "789a88ad",
   "metadata": {},
   "outputs": [
    {
     "name": "stdout",
     "output_type": "stream",
     "text": [
      "10\n",
      "<class 'int'>\n",
      "10\n"
     ]
    }
   ],
   "source": [
    "a=10\n",
    "b=323.2\n",
    "print(a)\n",
    "print(type(a))\n",
    "#del a\n",
    "print(a)"
   ]
  },
  {
   "cell_type": "code",
   "execution_count": 12,
   "id": "6bbb3e27",
   "metadata": {},
   "outputs": [
    {
     "name": "stdout",
     "output_type": "stream",
     "text": [
      "Variable   Type     Data/Info\n",
      "-----------------------------\n",
      "a          int      10\n",
      "b          float    323.2\n"
     ]
    }
   ],
   "source": [
    "%whos"
   ]
  },
  {
   "cell_type": "code",
   "execution_count": 25,
   "id": "2c9d9e30",
   "metadata": {},
   "outputs": [],
   "source": [
    "a,b=5.6,6"
   ]
  },
  {
   "cell_type": "code",
   "execution_count": 14,
   "id": "e6f53a3f",
   "metadata": {},
   "outputs": [
    {
     "name": "stdout",
     "output_type": "stream",
     "text": [
      "Variable   Type     Data/Info\n",
      "-----------------------------\n",
      "a          float    5.6\n",
      "b          int      6\n"
     ]
    }
   ],
   "source": [
    "%whos"
   ]
  },
  {
   "cell_type": "code",
   "execution_count": 24,
   "id": "b065446e",
   "metadata": {},
   "outputs": [],
   "source": [
    "#del a,b"
   ]
  },
  {
   "cell_type": "code",
   "execution_count": 26,
   "id": "3f7ba1fd",
   "metadata": {},
   "outputs": [
    {
     "name": "stdout",
     "output_type": "stream",
     "text": [
      "5.6 6\n"
     ]
    }
   ],
   "source": [
    "print(a,b)"
   ]
  },
  {
   "cell_type": "code",
   "execution_count": 37,
   "id": "0ef998fc",
   "metadata": {},
   "outputs": [],
   "source": [
    "s2,s='a',\"s\""
   ]
  },
  {
   "cell_type": "code",
   "execution_count": 39,
   "id": "9d93451a",
   "metadata": {},
   "outputs": [
    {
     "name": "stdout",
     "output_type": "stream",
     "text": [
      "<class 'str'> <class 'str'>\n"
     ]
    }
   ],
   "source": [
    "print(type(s),type(s2))"
   ]
  },
  {
   "cell_type": "code",
   "execution_count": 41,
   "id": "bc0c982c",
   "metadata": {},
   "outputs": [
    {
     "name": "stdout",
     "output_type": "stream",
     "text": [
      "3.3333333333333335 3 3.4333333333333336 3.0\n"
     ]
    }
   ],
   "source": [
    "print(10/3,10//3,10.3/3,10.3//3)"
   ]
  },
  {
   "cell_type": "code",
   "execution_count": 43,
   "id": "2e979136",
   "metadata": {},
   "outputs": [
    {
     "name": "stdout",
     "output_type": "stream",
     "text": [
      "8\n"
     ]
    }
   ],
   "source": [
    "print(2**3)"
   ]
  },
  {
   "cell_type": "code",
   "execution_count": 47,
   "id": "a679ef98",
   "metadata": {},
   "outputs": [
    {
     "name": "stdout",
     "output_type": "stream",
     "text": [
      "0.7000000000000002\n"
     ]
    }
   ],
   "source": [
    "print(10.6%3.3)"
   ]
  },
  {
   "cell_type": "code",
   "execution_count": 155,
   "id": "7437be20",
   "metadata": {},
   "outputs": [
    {
     "name": "stdout",
     "output_type": "stream",
     "text": [
      " 6666666666.67\n"
     ]
    }
   ],
   "source": [
    "print(\"{0:14.2f}\".format(20000000000/3))"
   ]
  },
  {
   "cell_type": "code",
   "execution_count": 133,
   "id": "027b09f4",
   "metadata": {},
   "outputs": [
    {
     "name": "stdout",
     "output_type": "stream",
     "text": [
      "1\n",
      "1\n"
     ]
    }
   ],
   "source": [
    "sum=a+b\n",
    "print(sum)\n",
    "print(int(sum))"
   ]
  },
  {
   "cell_type": "code",
   "execution_count": 134,
   "id": "80200dc4",
   "metadata": {},
   "outputs": [
    {
     "name": "stdout",
     "output_type": "stream",
     "text": [
      "hellohi\n"
     ]
    }
   ],
   "source": [
    "s1=\"hello\" \n",
    "s2=\"hi\"\n",
    "print(s1+s2)"
   ]
  },
  {
   "cell_type": "code",
   "execution_count": 73,
   "id": "13633d82",
   "metadata": {
    "scrolled": false
   },
   "outputs": [
    {
     "data": {
      "text/plain": [
       "3.3333333333333335"
      ]
     },
     "execution_count": 73,
     "metadata": {},
     "output_type": "execute_result"
    }
   ],
   "source": [
    "10/3"
   ]
  },
  {
   "cell_type": "code",
   "execution_count": 74,
   "id": "16cce29c",
   "metadata": {},
   "outputs": [
    {
     "data": {
      "text/plain": [
       "3.3333333333333335"
      ]
     },
     "execution_count": 74,
     "metadata": {},
     "output_type": "execute_result"
    }
   ],
   "source": [
    "_"
   ]
  },
  {
   "cell_type": "code",
   "execution_count": 80,
   "id": "dcaff109",
   "metadata": {},
   "outputs": [
    {
     "name": "stdout",
     "output_type": "stream",
     "text": [
      "yes\n"
     ]
    }
   ],
   "source": [
    "if(s1==\"hello\" and s2==\"hi\"):\n",
    "    print(\"yes\")"
   ]
  },
  {
   "cell_type": "code",
   "execution_count": 82,
   "id": "31bfe988",
   "metadata": {},
   "outputs": [
    {
     "name": "stdout",
     "output_type": "stream",
     "text": [
      "Yes\n"
     ]
    }
   ],
   "source": [
    "a=True\n",
    "b=False\n",
    "if(a or b):\n",
    "    print(\"Yes\")"
   ]
  },
  {
   "cell_type": "code",
   "execution_count": 84,
   "id": "eef723b2",
   "metadata": {},
   "outputs": [
    {
     "name": "stdout",
     "output_type": "stream",
     "text": [
      "Yes\n"
     ]
    }
   ],
   "source": [
    "if(a and not(b)):\n",
    "    print(\"Yes\")"
   ]
  },
  {
   "cell_type": "code",
   "execution_count": 88,
   "id": "8dbb2304",
   "metadata": {},
   "outputs": [
    {
     "name": "stdout",
     "output_type": "stream",
     "text": [
      "Y\n"
     ]
    }
   ],
   "source": [
    "if(not(b)):\n",
    "    print(\"Y\")\n"
   ]
  },
  {
   "cell_type": "code",
   "execution_count": 115,
   "id": "79cb8ba6",
   "metadata": {},
   "outputs": [
    {
     "name": "stdout",
     "output_type": "stream",
     "text": [
      "Y\n"
     ]
    }
   ],
   "source": [
    "i=True #j is always true if non-zero number\n",
    "j=-5\n",
    "if(i!=j and j):\n",
    "    print(\"Y\")\n",
    "else:\n",
    "    print(\"N\");"
   ]
  },
  {
   "cell_type": "code",
   "execution_count": 114,
   "id": "99518f07",
   "metadata": {},
   "outputs": [
    {
     "data": {
      "text/plain": [
       "True"
      ]
     },
     "execution_count": 114,
     "metadata": {},
     "output_type": "execute_result"
    }
   ],
   "source": [
    "3==3.0"
   ]
  },
  {
   "cell_type": "code",
   "execution_count": 116,
   "id": "85b88415",
   "metadata": {},
   "outputs": [
    {
     "data": {
      "text/plain": [
       "6"
      ]
     },
     "execution_count": 116,
     "metadata": {},
     "output_type": "execute_result"
    }
   ],
   "source": [
    "round(5.5116)"
   ]
  },
  {
   "cell_type": "code",
   "execution_count": 117,
   "id": "e4dead9c",
   "metadata": {},
   "outputs": [
    {
     "data": {
      "text/plain": [
       "4"
      ]
     },
     "execution_count": 117,
     "metadata": {},
     "output_type": "execute_result"
    }
   ],
   "source": [
    "round(4.5)"
   ]
  },
  {
   "cell_type": "code",
   "execution_count": 118,
   "id": "112be629",
   "metadata": {},
   "outputs": [
    {
     "data": {
      "text/plain": [
       "6"
      ]
     },
     "execution_count": 118,
     "metadata": {},
     "output_type": "execute_result"
    }
   ],
   "source": [
    "round(5.5)"
   ]
  },
  {
   "cell_type": "code",
   "execution_count": 119,
   "id": "f4bf4bf7",
   "metadata": {},
   "outputs": [
    {
     "data": {
      "text/plain": [
       "5"
      ]
     },
     "execution_count": 119,
     "metadata": {},
     "output_type": "execute_result"
    }
   ],
   "source": [
    "round(4.6)"
   ]
  },
  {
   "cell_type": "code",
   "execution_count": 167,
   "id": "fea2be18",
   "metadata": {},
   "outputs": [
    {
     "name": "stdout",
     "output_type": "stream",
     "text": [
      "-4\n",
      "-5\n",
      "4\n",
      "5\n",
      "FOR ODD NUMBER\n",
      "-4\n",
      "-4\n",
      "4\n",
      "4\n"
     ]
    }
   ],
   "source": [
    "print(round(-4.5))\n",
    "print(round(-4.6))\n",
    "print(round(4.5))\n",
    "print(round(4.6))\n",
    "print(\"FOR ODD NUMBER\")\n",
    "print(round(-3.5))\n",
    "print(round(-3.6))\n",
    "print(round(3.5))\n",
    "print(round(3.6))"
   ]
  },
  {
   "cell_type": "code",
   "execution_count": 159,
   "id": "706c2877",
   "metadata": {},
   "outputs": [
    {
     "data": {
      "text/plain": [
       "'Floating point                                                                                                                                                                                                    3.142'"
      ]
     },
     "execution_count": 159,
     "metadata": {},
     "output_type": "execute_result"
    }
   ],
   "source": [
    "import math\n",
    "\"Floating point {0:200.3f}\".format(math.pi)"
   ]
  },
  {
   "cell_type": "code",
   "execution_count": 161,
   "id": "ed25a4d0",
   "metadata": {},
   "outputs": [
    {
     "data": {
      "text/plain": [
       "4.652"
      ]
     },
     "execution_count": 161,
     "metadata": {},
     "output_type": "execute_result"
    }
   ],
   "source": [
    "round(4.6515,3)"
   ]
  },
  {
   "cell_type": "code",
   "execution_count": 162,
   "id": "fe4a720c",
   "metadata": {},
   "outputs": [
    {
     "data": {
      "text/plain": [
       "4.652"
      ]
     },
     "execution_count": 162,
     "metadata": {},
     "output_type": "execute_result"
    }
   ],
   "source": [
    "round(4.6525,3)"
   ]
  },
  {
   "cell_type": "code",
   "execution_count": 169,
   "id": "ad156afa",
   "metadata": {},
   "outputs": [
    {
     "data": {
      "text/plain": [
       "(3, 2)"
      ]
     },
     "execution_count": 169,
     "metadata": {},
     "output_type": "execute_result"
    }
   ],
   "source": [
    "divmod(20,6)"
   ]
  },
  {
   "cell_type": "code",
   "execution_count": 177,
   "id": "8d202f9e",
   "metadata": {},
   "outputs": [
    {
     "name": "stdout",
     "output_type": "stream",
     "text": [
      "<class 'tuple'>\n",
      "3 (3, 2)\n"
     ]
    }
   ],
   "source": [
    "a=divmod(20,6)\n",
    "#a[0]=6\n",
    "\"\"\"tuple immutable\n",
    "correct\"\"\"\n",
    "print(type(a))\n",
    "print(a[0],a)"
   ]
  },
  {
   "cell_type": "code",
   "execution_count": 178,
   "id": "d8454354",
   "metadata": {},
   "outputs": [
    {
     "data": {
      "text/plain": [
       "tuple"
      ]
     },
     "execution_count": 178,
     "metadata": {},
     "output_type": "execute_result"
    }
   ],
   "source": [
    "type(a)"
   ]
  },
  {
   "cell_type": "code",
   "execution_count": 181,
   "id": "423c7d56",
   "metadata": {},
   "outputs": [
    {
     "name": "stdout",
     "output_type": "stream",
     "text": [
      "2\n",
      "3.0\n"
     ]
    }
   ],
   "source": [
    "print(42%4)\n",
    "print(39.0%4)"
   ]
  },
  {
   "cell_type": "code",
   "execution_count": 182,
   "id": "70ebacf5",
   "metadata": {},
   "outputs": [
    {
     "data": {
      "text/plain": [
       "True"
      ]
     },
     "execution_count": 182,
     "metadata": {},
     "output_type": "execute_result"
    }
   ],
   "source": [
    "isinstance(5.6,float)"
   ]
  },
  {
   "cell_type": "code",
   "execution_count": 185,
   "id": "d7cc2ebe",
   "metadata": {},
   "outputs": [
    {
     "data": {
      "text/plain": [
       "True"
      ]
     },
     "execution_count": 185,
     "metadata": {},
     "output_type": "execute_result"
    }
   ],
   "source": [
    "isinstance(5+7j,(complex,int,float))"
   ]
  },
  {
   "cell_type": "code",
   "execution_count": 187,
   "id": "0055df6f",
   "metadata": {},
   "outputs": [
    {
     "name": "stdout",
     "output_type": "stream",
     "text": [
      "16\n",
      "2 16\n"
     ]
    }
   ],
   "source": [
    "print(2**4)\n",
    "print(pow(2,4,7),pow(2,4))\n",
    "#(x**y)%z\n",
    "#third argument in power "
   ]
  },
  {
   "cell_type": "code",
   "execution_count": 190,
   "id": "7c4e8cd6",
   "metadata": {
    "scrolled": true
   },
   "outputs": [
    {
     "name": "stdout",
     "output_type": "stream",
     "text": [
      "enter:2\n",
      "<class 'str'>\n"
     ]
    }
   ],
   "source": [
    "a=input(\"enter:\")\n",
    "print(type(a))"
   ]
  },
  {
   "cell_type": "code",
   "execution_count": 203,
   "id": "616b6962",
   "metadata": {},
   "outputs": [
    {
     "name": "stdout",
     "output_type": "stream",
     "text": [
      "enter : 25\n",
      "<class 'float'>\n"
     ]
    }
   ],
   "source": [
    "a=float(input(\"enter : \")) #we can input int in float but not vice-versa\n",
    "print(type(a))"
   ]
  },
  {
   "cell_type": "code",
   "execution_count": 200,
   "id": "e10dab42",
   "metadata": {},
   "outputs": [],
   "source": [
    "pow? #documentation of pow"
   ]
  },
  {
   "cell_type": "code",
   "execution_count": 219,
   "id": "b9fe6507",
   "metadata": {
    "scrolled": true
   },
   "outputs": [
    {
     "name": "stdout",
     "output_type": "stream",
     "text": [
      "A : 5\n",
      "B : 5\n",
      "=\n"
     ]
    }
   ],
   "source": [
    "a=int(input(\"A : \"))\n",
    "b=int(input(\"B : \"))\n",
    "\"\"\"if a<b:\n",
    "    print(a)\n",
    "    print(1)\n",
    "elif b<a:\n",
    "    print(b)\n",
    "    print(2)\n",
    "else:\n",
    "    print(\"Equal\")\n",
    "print(\"end\")  \"\"\"  \n",
    "print (\"A\") if a>b else print (\"=\") if a==b else print(\"B\")"
   ]
  },
  {
   "cell_type": "code",
   "execution_count": 237,
   "id": "d8a5f9fe",
   "metadata": {},
   "outputs": [
    {
     "name": "stdout",
     "output_type": "stream",
     "text": [
      "Enter Float: 545\n",
      "odd\n"
     ]
    }
   ],
   "source": [
    "\"\"\" input float 253.25 find integer portion and check even/odd\"\"\"\n",
    "import math\n",
    "a=float(input(\"Enter Float: \"))\n",
    "if(a>0):\n",
    "    if(math.floor(a)%2==0):\n",
    "        print(\"Even\")\n",
    "    else:\n",
    "        print(\"odd\")\n",
    "else:\n",
    "    if(math.ceil(a)%2==0):\n",
    "        print(\"Even\")\n",
    "    else:\n",
    "        print(\"odd\")"
   ]
  },
  {
   "cell_type": "code",
   "execution_count": 228,
   "id": "71c1c320",
   "metadata": {},
   "outputs": [],
   "source": [
    "math.floor?"
   ]
  },
  {
   "cell_type": "code",
   "execution_count": 249,
   "id": "06f4f180",
   "metadata": {},
   "outputs": [
    {
     "name": "stdout",
     "output_type": "stream",
     "text": [
      "3\n",
      "end\n"
     ]
    }
   ],
   "source": [
    "n=5\n",
    "while n!=0:\n",
    "    n-=1\n",
    "    if(n==1):\n",
    "        break\n",
    "    elif n%2==0:\n",
    "        continue        \n",
    "    else:\n",
    "        print(n)\n",
    "print (\"end\")    "
   ]
  },
  {
   "cell_type": "code",
   "execution_count": 256,
   "id": "28a25103",
   "metadata": {},
   "outputs": [
    {
     "name": "stdout",
     "output_type": "stream",
     "text": [
      "2 * 1 = 2\n",
      "2 * 2 = 4\n",
      "2 * 3 = 6\n",
      "2 * 4 = 8\n",
      "2 * 5 = 10\n",
      "2 * 6 = 12\n",
      "2 * 7 = 14\n",
      "2 * 8 = 16\n",
      "2 * 9 = 18\n",
      "2 * 10 = 20\n",
      "[2, 4, 6, 8, 10, 12, 14, 16, 18, 20]\n"
     ]
    }
   ],
   "source": [
    "l=[] #list\n",
    "for i in range(10):\n",
    "    print(\"2 *\",(i+1),\"=\",2*(i+1))\n",
    "    l.append(2*(i+1))\n",
    "print(l)"
   ]
  },
  {
   "cell_type": "code",
   "execution_count": 267,
   "id": "72616f2a",
   "metadata": {},
   "outputs": [
    {
     "name": "stdout",
     "output_type": "stream",
     "text": [
      "18\n",
      "2\n",
      "6\n",
      "10\n",
      "14\n",
      "18\n"
     ]
    },
    {
     "data": {
      "text/plain": [
       "'for x in l:\\n    print(x)'"
      ]
     },
     "execution_count": 267,
     "metadata": {},
     "output_type": "execute_result"
    }
   ],
   "source": [
    "\"\"\"for i in range(0,10,2):\n",
    "    print(i)\"\"\"\n",
    "for i in range(-2,10,2):\n",
    "    print(l[i])\n",
    "\"\"\"for x in l:\n",
    "    print(x)\"\"\""
   ]
  },
  {
   "cell_type": "code",
   "execution_count": 273,
   "id": "a6d7d782",
   "metadata": {},
   "outputs": [
    {
     "name": "stdout",
     "output_type": "stream",
     "text": [
      "4.9\n",
      "apple\n",
      "cheer\n",
      "looop complete\n",
      "hello\n"
     ]
    }
   ],
   "source": [
    "s={\"apple\",4.9,\"cheer\"} #set\n",
    "for x in s:\n",
    "    print(x)\n",
    "    #break\n",
    "else:\n",
    "    print(\"looop complete\")\n",
    "print(\"hello\")"
   ]
  },
  {
   "cell_type": "code",
   "execution_count": 279,
   "id": "9ae14a77",
   "metadata": {
    "scrolled": true
   },
   "outputs": [
    {
     "name": "stdout",
     "output_type": "stream",
     "text": [
      "apple fruit\n"
     ]
    },
    {
     "ename": "NameError",
     "evalue": "name 'size' is not defined",
     "output_type": "error",
     "traceback": [
      "\u001b[0;31m---------------------------------------------------------------------------\u001b[0m",
      "\u001b[0;31mNameError\u001b[0m                                 Traceback (most recent call last)",
      "\u001b[0;32m/tmp/ipykernel_9797/262782174.py\u001b[0m in \u001b[0;36m<module>\u001b[0;34m\u001b[0m\n\u001b[1;32m      2\u001b[0m \u001b[0;32mfor\u001b[0m \u001b[0mx\u001b[0m \u001b[0;32min\u001b[0m \u001b[0md\u001b[0m\u001b[0;34m:\u001b[0m\u001b[0;34m\u001b[0m\u001b[0;34m\u001b[0m\u001b[0m\n\u001b[1;32m      3\u001b[0m     \u001b[0mprint\u001b[0m \u001b[0;34m(\u001b[0m\u001b[0mx\u001b[0m\u001b[0;34m,\u001b[0m\u001b[0md\u001b[0m\u001b[0;34m[\u001b[0m\u001b[0mx\u001b[0m\u001b[0;34m]\u001b[0m\u001b[0;34m)\u001b[0m\u001b[0;34m\u001b[0m\u001b[0;34m\u001b[0m\u001b[0m\n\u001b[0;32m----> 4\u001b[0;31m     \u001b[0mprint\u001b[0m \u001b[0;34m(\u001b[0m\u001b[0msize\u001b[0m\u001b[0;34m(\u001b[0m\u001b[0md\u001b[0m\u001b[0;34m)\u001b[0m\u001b[0;34m)\u001b[0m\u001b[0;34m\u001b[0m\u001b[0;34m\u001b[0m\u001b[0m\n\u001b[0m",
      "\u001b[0;31mNameError\u001b[0m: name 'size' is not defined"
     ]
    }
   ],
   "source": [
    "d={\"apple\":\"fruit\",\"tomato\":\"veg\"} #dict\n",
    "for x in d:\n",
    "    print (x,d[x])\n",
    "    print (size(d))\n"
   ]
  },
  {
   "cell_type": "code",
   "execution_count": 299,
   "id": "95a05b5e",
   "metadata": {},
   "outputs": [
    {
     "name": "stdout",
     "output_type": "stream",
     "text": [
      "[-8, -6, -3, 1, 3, 4, 8, 9]\n"
     ]
    }
   ],
   "source": [
    "\"\"\"sort a list\"\"\"\n",
    "l=[1,-8,8,3,9,4,-6,-3]\n",
    "\n",
    "for i in range(len(l)):\n",
    "    for j in range(len(l)-i-1):\n",
    "        if l[j]>l[j+1]:  \n",
    "            temp=l[j]\n",
    "            l[j]=l[j+1]\n",
    "            l[j+1]=temp\n",
    "        \n",
    "print(l)        "
   ]
  },
  {
   "cell_type": "code",
   "execution_count": 319,
   "id": "832ce1cb",
   "metadata": {},
   "outputs": [
    {
     "data": {
      "text/plain": [
       "2"
      ]
     },
     "execution_count": 319,
     "metadata": {},
     "output_type": "execute_result"
    }
   ],
   "source": [
    "import sys\n",
    "sys.getsizeof(d)\n",
    "len(d)"
   ]
  },
  {
   "cell_type": "code",
   "execution_count": null,
   "id": "c263daec",
   "metadata": {},
   "outputs": [],
   "source": []
  }
 ],
 "metadata": {
  "kernelspec": {
   "display_name": "Python 3 (ipykernel)",
   "language": "python",
   "name": "python3"
  },
  "language_info": {
   "codemirror_mode": {
    "name": "ipython",
    "version": 3
   },
   "file_extension": ".py",
   "mimetype": "text/x-python",
   "name": "python",
   "nbconvert_exporter": "python",
   "pygments_lexer": "ipython3",
   "version": "3.9.10"
  }
 },
 "nbformat": 4,
 "nbformat_minor": 5
}
