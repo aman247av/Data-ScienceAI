{
 "cells": [
  {
   "cell_type": "code",
   "execution_count": 1,
   "id": "a0b59f5f",
   "metadata": {},
   "outputs": [],
   "source": [
    "def prime(n):\n",
    "        flag=True\n",
    "        for i in range(2,n//2):\n",
    "            if n%i==0:\n",
    "                flag=False\n",
    "        if(flag):\n",
    "            return (\"prime\")\n",
    "        else:\n",
    "            return (\"not\")\n",
    "def isnumeric(*args):\n",
    "    for i in args:\n",
    "        if(isinstance(i,(float,int))):\n",
    "            print (i,\"is real no.\")\n",
    "        else:\n",
    "            print(i,\"is any other\")"
   ]
  },
  {
   "cell_type": "code",
   "execution_count": 16,
   "id": "2e829ceb",
   "metadata": {},
   "outputs": [],
   "source": [
    "import sys\n",
    "sys.path.append('/home/av/pyfunc/')"
   ]
  },
  {
   "cell_type": "code",
   "execution_count": 18,
   "id": "32e37915",
   "metadata": {},
   "outputs": [
    {
     "data": {
      "text/plain": [
       "'not'"
      ]
     },
     "execution_count": 18,
     "metadata": {},
     "output_type": "execute_result"
    }
   ],
   "source": [
    "import func\n",
    "func.prime(8)"
   ]
  },
  {
   "cell_type": "code",
   "execution_count": 21,
   "id": "ff5d14b5",
   "metadata": {},
   "outputs": [
    {
     "name": "stdout",
     "output_type": "stream",
     "text": [
      "5 is real no.\n",
      "6 is real no.\n",
      "2.3 is real no.\n",
      "kkk is any other\n"
     ]
    }
   ],
   "source": [
    "import dub\n",
    "dub.numeric(5,6,2.3,\"kkk\")"
   ]
  },
  {
   "cell_type": "code",
   "execution_count": 17,
   "id": "0ab00821",
   "metadata": {},
   "outputs": [
    {
     "ename": "AttributeError",
     "evalue": "module 'func' has no attribute 'rotateStr'",
     "output_type": "error",
     "traceback": [
      "\u001b[0;31m---------------------------------------------------------------------------\u001b[0m",
      "\u001b[0;31mAttributeError\u001b[0m                            Traceback (most recent call last)",
      "\u001b[0;32m/tmp/ipykernel_21508/3298999956.py\u001b[0m in \u001b[0;36m<module>\u001b[0;34m\u001b[0m\n\u001b[1;32m      1\u001b[0m \u001b[0;32mimport\u001b[0m \u001b[0mfunc\u001b[0m\u001b[0;34m\u001b[0m\u001b[0;34m\u001b[0m\u001b[0m\n\u001b[1;32m      2\u001b[0m \u001b[0mfunc\u001b[0m\u001b[0;34m.\u001b[0m\u001b[0mprime\u001b[0m\u001b[0;34m(\u001b[0m\u001b[0;36m5\u001b[0m\u001b[0;34m)\u001b[0m\u001b[0;34m\u001b[0m\u001b[0;34m\u001b[0m\u001b[0m\n\u001b[0;32m----> 3\u001b[0;31m \u001b[0mfunc\u001b[0m\u001b[0;34m.\u001b[0m\u001b[0mrotateStr\u001b[0m\u001b[0;34m(\u001b[0m\u001b[0;34m)\u001b[0m\u001b[0;34m\u001b[0m\u001b[0;34m\u001b[0m\u001b[0m\n\u001b[0m",
      "\u001b[0;31mAttributeError\u001b[0m: module 'func' has no attribute 'rotateStr'"
     ]
    }
   ],
   "source": [
    "import func\n",
    "func.prime(5)\n",
    "func.rotateStr()"
   ]
  },
  {
   "cell_type": "code",
   "execution_count": 22,
   "id": "f60615ca",
   "metadata": {},
   "outputs": [],
   "source": [
    "def rotateStr(n):\n",
    "    for i in range(len(n)):\n",
    "        print(n[i:len(n)]+n[-len(n):-len(n)+i])"
   ]
  },
  {
   "cell_type": "code",
   "execution_count": 23,
   "id": "aec38f1b",
   "metadata": {},
   "outputs": [],
   "source": [
    "import sys\n",
    "sys.path.append('/home/av/pyfunc/')"
   ]
  },
  {
   "cell_type": "code",
   "execution_count": 24,
   "id": "91b082d0",
   "metadata": {},
   "outputs": [
    {
     "ename": "AttributeError",
     "evalue": "module 'func' has no attribute 'rotateStr'",
     "output_type": "error",
     "traceback": [
      "\u001b[0;31m---------------------------------------------------------------------------\u001b[0m",
      "\u001b[0;31mAttributeError\u001b[0m                            Traceback (most recent call last)",
      "\u001b[0;32m/tmp/ipykernel_21508/3298999956.py\u001b[0m in \u001b[0;36m<module>\u001b[0;34m\u001b[0m\n\u001b[1;32m      1\u001b[0m \u001b[0;32mimport\u001b[0m \u001b[0mfunc\u001b[0m\u001b[0;34m\u001b[0m\u001b[0;34m\u001b[0m\u001b[0m\n\u001b[1;32m      2\u001b[0m \u001b[0mfunc\u001b[0m\u001b[0;34m.\u001b[0m\u001b[0mprime\u001b[0m\u001b[0;34m(\u001b[0m\u001b[0;36m5\u001b[0m\u001b[0;34m)\u001b[0m\u001b[0;34m\u001b[0m\u001b[0;34m\u001b[0m\u001b[0m\n\u001b[0;32m----> 3\u001b[0;31m \u001b[0mfunc\u001b[0m\u001b[0;34m.\u001b[0m\u001b[0mrotateStr\u001b[0m\u001b[0;34m(\u001b[0m\u001b[0;34m)\u001b[0m\u001b[0;34m\u001b[0m\u001b[0;34m\u001b[0m\u001b[0m\n\u001b[0m",
      "\u001b[0;31mAttributeError\u001b[0m: module 'func' has no attribute 'rotateStr'"
     ]
    }
   ],
   "source": [
    "import func\n",
    "func.prime(5)\n",
    "func.rotateStr()"
   ]
  },
  {
   "cell_type": "code",
   "execution_count": null,
   "id": "740428e6",
   "metadata": {},
   "outputs": [],
   "source": []
  }
 ],
 "metadata": {
  "kernelspec": {
   "display_name": "Python 3 (ipykernel)",
   "language": "python",
   "name": "python3"
  },
  "language_info": {
   "codemirror_mode": {
    "name": "ipython",
    "version": 3
   },
   "file_extension": ".py",
   "mimetype": "text/x-python",
   "name": "python",
   "nbconvert_exporter": "python",
   "pygments_lexer": "ipython3",
   "version": "3.9.10"
  }
 },
 "nbformat": 4,
 "nbformat_minor": 5
}
