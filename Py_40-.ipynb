{
 "cells": [
  {
   "cell_type": "code",
   "execution_count": 1,
   "id": "c73454ee",
   "metadata": {},
   "outputs": [
    {
     "name": "stdout",
     "output_type": "stream",
     "text": [
      "sucess\n",
      "incoming\n"
     ]
    }
   ],
   "source": [
    "def success():\n",
    "    print(\"sucess\")\n",
    "    print(\"incoming\")\n",
    "success()    "
   ]
  },
  {
   "cell_type": "markdown",
   "id": "4a9d3c5a",
   "metadata": {},
   "source": [
    "function overloading"
   ]
  },
  {
   "cell_type": "code",
   "execution_count": 12,
   "id": "c2003307",
   "metadata": {},
   "outputs": [],
   "source": [
    "def numerical(arg):\n",
    "    for i in arg:\n",
    "        if(not(isinstance(i,(int,float)))):\n",
    "            return False\n",
    "    return True"
   ]
  },
  {
   "cell_type": "code",
   "execution_count": 9,
   "id": "0d5aee1c",
   "metadata": {},
   "outputs": [
    {
     "data": {
      "text/plain": [
       "True"
      ]
     },
     "execution_count": 9,
     "metadata": {},
     "output_type": "execute_result"
    }
   ],
   "source": [
    "numerical([5,8,0,2.3])"
   ]
  },
  {
   "cell_type": "markdown",
   "id": "b0226872",
   "metadata": {},
   "source": [
    "#Strings"
   ]
  },
  {
   "cell_type": "code",
   "execution_count": 152,
   "id": "daca1c5d",
   "metadata": {},
   "outputs": [
    {
     "name": "stdout",
     "output_type": "stream",
     "text": [
      "g josfp\n",
      "ing josfp\n",
      "ring jo\n",
      "igjs\n"
     ]
    }
   ],
   "source": [
    "a=\"String josfp\"\n",
    "print(a[5:])\n",
    "print(a[-9:])\n",
    "print(a[2:9])\n",
    "print(a[-9:-2:2])"
   ]
  },
  {
   "cell_type": "code",
   "execution_count": 147,
   "id": "2d2a8ce0",
   "metadata": {},
   "outputs": [],
   "source": [
    "def rotateStr(n):\n",
    "    for i in range(len(n)):\n",
    "        print(n[i:len(n)]+n[-len(n):-len(n)+i])"
   ]
  },
  {
   "cell_type": "code",
   "execution_count": 148,
   "id": "b4cc2f7c",
   "metadata": {},
   "outputs": [
    {
     "name": "stdout",
     "output_type": "stream",
     "text": [
      "aman\n",
      "mana\n",
      "anam\n",
      "nama\n"
     ]
    }
   ],
   "source": [
    "rotatestr(\"aman\")"
   ]
  },
  {
   "cell_type": "code",
   "execution_count": 153,
   "id": "d9c2e5a7",
   "metadata": {},
   "outputs": [
    {
     "ename": "TypeError",
     "evalue": "'str' object does not support item assignment",
     "output_type": "error",
     "traceback": [
      "\u001b[0;31m---------------------------------------------------------------------------\u001b[0m",
      "\u001b[0;31mTypeError\u001b[0m                                 Traceback (most recent call last)",
      "\u001b[0;32m/tmp/ipykernel_20602/1624618188.py\u001b[0m in \u001b[0;36m<module>\u001b[0;34m\u001b[0m\n\u001b[0;32m----> 1\u001b[0;31m \u001b[0ma\u001b[0m\u001b[0;34m[\u001b[0m\u001b[0;36m1\u001b[0m\u001b[0;34m]\u001b[0m\u001b[0;34m=\u001b[0m\u001b[0;34m\"u\"\u001b[0m\u001b[0;34m\u001b[0m\u001b[0;34m\u001b[0m\u001b[0m\n\u001b[0m",
      "\u001b[0;31mTypeError\u001b[0m: 'str' object does not support item assignment"
     ]
    }
   ],
   "source": [
    "a[1]=\"u\"\n",
    "#s rttring immutable"
   ]
  },
  {
   "cell_type": "code",
   "execution_count": 154,
   "id": "09df557c",
   "metadata": {},
   "outputs": [
    {
     "data": {
      "text/plain": [
       "'pfsoj gnirtS'"
      ]
     },
     "execution_count": 154,
     "metadata": {},
     "output_type": "execute_result"
    }
   ],
   "source": [
    "a[::-1]"
   ]
  },
  {
   "cell_type": "code",
   "execution_count": 157,
   "id": "5a3e48b4",
   "metadata": {},
   "outputs": [
    {
     "name": "stdout",
     "output_type": "stream",
     "text": [
      "67\n"
     ]
    },
    {
     "ename": "ValueError",
     "evalue": "invalid literal for int() with base 10: '6op'",
     "output_type": "error",
     "traceback": [
      "\u001b[0;31m---------------------------------------------------------------------------\u001b[0m",
      "\u001b[0;31mValueError\u001b[0m                                Traceback (most recent call last)",
      "\u001b[0;32m/tmp/ipykernel_20602/113054392.py\u001b[0m in \u001b[0;36m<module>\u001b[0;34m\u001b[0m\n\u001b[1;32m      2\u001b[0m \u001b[0mstr2\u001b[0m\u001b[0;34m=\u001b[0m\u001b[0;34m\"6op\"\u001b[0m\u001b[0;34m\u001b[0m\u001b[0;34m\u001b[0m\u001b[0m\n\u001b[1;32m      3\u001b[0m \u001b[0mprint\u001b[0m\u001b[0;34m(\u001b[0m\u001b[0mint\u001b[0m\u001b[0;34m(\u001b[0m\u001b[0mstr\u001b[0m\u001b[0;34m)\u001b[0m\u001b[0;34m)\u001b[0m\u001b[0;34m\u001b[0m\u001b[0;34m\u001b[0m\u001b[0m\n\u001b[0;32m----> 4\u001b[0;31m \u001b[0mprint\u001b[0m\u001b[0;34m(\u001b[0m\u001b[0mint\u001b[0m\u001b[0;34m(\u001b[0m\u001b[0mstr2\u001b[0m\u001b[0;34m)\u001b[0m\u001b[0;34m)\u001b[0m\u001b[0;34m\u001b[0m\u001b[0;34m\u001b[0m\u001b[0m\n\u001b[0m",
      "\u001b[0;31mValueError\u001b[0m: invalid literal for int() with base 10: '6op'"
     ]
    }
   ],
   "source": [
    "str=\"67\"\n",
    "str2=\"6op\"\n",
    "print(int(str))\n",
    "print(int(str2))"
   ]
  },
  {
   "cell_type": "code",
   "execution_count": 172,
   "id": "4bbb4c5f",
   "metadata": {},
   "outputs": [],
   "source": [
    "s=\"  asdfd    fDgH;ggFGg;hGD  \""
   ]
  },
  {
   "cell_type": "code",
   "execution_count": 173,
   "id": "80b13b4d",
   "metadata": {},
   "outputs": [
    {
     "data": {
      "text/plain": [
       "'asdfd    fDgH;ggFGg;hGD'"
      ]
     },
     "execution_count": 173,
     "metadata": {},
     "output_type": "execute_result"
    }
   ],
   "source": [
    "s.strip()"
   ]
  },
  {
   "cell_type": "code",
   "execution_count": 174,
   "id": "a74ef332",
   "metadata": {},
   "outputs": [
    {
     "data": {
      "text/plain": [
       "'  ASDFD    FDGH;GGFGG;HGD  '"
      ]
     },
     "execution_count": 174,
     "metadata": {},
     "output_type": "execute_result"
    }
   ],
   "source": [
    "s.upper()"
   ]
  },
  {
   "cell_type": "code",
   "execution_count": 175,
   "id": "7048495f",
   "metadata": {},
   "outputs": [
    {
     "data": {
      "text/plain": [
       "'  asdfd    fdgh;ggfgg;hgd  '"
      ]
     },
     "execution_count": 175,
     "metadata": {},
     "output_type": "execute_result"
    }
   ],
   "source": [
    "s.lower()"
   ]
  },
  {
   "cell_type": "code",
   "execution_count": 176,
   "id": "57bcb9ab",
   "metadata": {},
   "outputs": [
    {
     "data": {
      "text/plain": [
       "',,asdfd,,,,fDgH;ggFGg;hGD,,'"
      ]
     },
     "execution_count": 176,
     "metadata": {},
     "output_type": "execute_result"
    }
   ],
   "source": [
    "s.replace(\" \",\",\")"
   ]
  },
  {
   "cell_type": "code",
   "execution_count": 177,
   "id": "131e85af",
   "metadata": {},
   "outputs": [
    {
     "data": {
      "text/plain": [
       "['  asdfd    fDgH', 'ggFGg', 'hGD  ']"
      ]
     },
     "execution_count": 177,
     "metadata": {},
     "output_type": "execute_result"
    }
   ],
   "source": [
    "s.split(\";\")"
   ]
  },
  {
   "cell_type": "code",
   "execution_count": 178,
   "id": "1efe4d1b",
   "metadata": {},
   "outputs": [
    {
     "data": {
      "text/plain": [
       "False"
      ]
     },
     "execution_count": 178,
     "metadata": {},
     "output_type": "execute_result"
    }
   ],
   "source": [
    "s.islower()"
   ]
  },
  {
   "cell_type": "code",
   "execution_count": 181,
   "id": "7c18494e",
   "metadata": {},
   "outputs": [
    {
     "data": {
      "text/plain": [
       "27"
      ]
     },
     "execution_count": 181,
     "metadata": {},
     "output_type": "execute_result"
    }
   ],
   "source": [
    "# s. tab to see string func\n",
    "len(s)"
   ]
  },
  {
   "cell_type": "code",
   "execution_count": 184,
   "id": "7e5f09ea",
   "metadata": {},
   "outputs": [
    {
     "data": {
      "text/plain": [
       "174"
      ]
     },
     "execution_count": 184,
     "metadata": {},
     "output_type": "execute_result"
    }
   ],
   "source": [
    "sum([7,78,89])"
   ]
  },
  {
   "cell_type": "code",
   "execution_count": 185,
   "id": "51f5d8af",
   "metadata": {},
   "outputs": [],
   "source": [
    "ss=\"aman at home\""
   ]
  },
  {
   "cell_type": "code",
   "execution_count": 186,
   "id": "5a7bfab8",
   "metadata": {},
   "outputs": [
    {
     "data": {
      "text/plain": [
       "True"
      ]
     },
     "execution_count": 186,
     "metadata": {},
     "output_type": "execute_result"
    }
   ],
   "source": [
    "\"man\" in ss"
   ]
  },
  {
   "cell_type": "code",
   "execution_count": 187,
   "id": "c2de896f",
   "metadata": {},
   "outputs": [
    {
     "data": {
      "text/plain": [
       "False"
      ]
     },
     "execution_count": 187,
     "metadata": {},
     "output_type": "execute_result"
    }
   ],
   "source": [
    "\"man\" not in ss "
   ]
  },
  {
   "cell_type": "code",
   "execution_count": 189,
   "id": "a6f2056d",
   "metadata": {},
   "outputs": [
    {
     "data": {
      "text/plain": [
       "False"
      ]
     },
     "execution_count": 189,
     "metadata": {},
     "output_type": "execute_result"
    }
   ],
   "source": [
    "\"aman\"==\"Aman\""
   ]
  },
  {
   "cell_type": "code",
   "execution_count": 195,
   "id": "1769263d",
   "metadata": {},
   "outputs": [
    {
     "data": {
      "text/plain": [
       "False"
      ]
     },
     "execution_count": 195,
     "metadata": {},
     "output_type": "execute_result"
    }
   ],
   "source": [
    "\"mam\"<\"Man\"\n"
   ]
  },
  {
   "cell_type": "code",
   "execution_count": 197,
   "id": "e8de73e7",
   "metadata": {},
   "outputs": [
    {
     "data": {
      "text/plain": [
       "True"
      ]
     },
     "execution_count": 197,
     "metadata": {},
     "output_type": "execute_result"
    }
   ],
   "source": [
    "\"man\"<\"nan\""
   ]
  },
  {
   "cell_type": "markdown",
   "id": "ea110899",
   "metadata": {},
   "source": [
    "Data Struct"
   ]
  },
  {
   "cell_type": "code",
   "execution_count": 198,
   "id": "a68e2064",
   "metadata": {},
   "outputs": [],
   "source": [
    "#list  ordered,changeable,duplicates\n",
    "#tuple ordered,unchangeable,duplicates\n",
    "#set   unordered,removeable/addable,no duplicates\n",
    "#dict  unordered,changeable,no duplicates\n",
    "\n"
   ]
  },
  {
   "cell_type": "code",
   "execution_count": 265,
   "id": "d7a873d6",
   "metadata": {},
   "outputs": [],
   "source": [
    "l=[1.2,13,9.9,\"name\"]\n",
    "t=(1.3,8,9.9,\"name\")\n",
    "s={1,74,74,\"name\",7.6}\n",
    "d={22:\"ayushi\",31:\"aman\",\"college\":\"gbu\",\"college\":\"iiitg\"}"
   ]
  },
  {
   "cell_type": "code",
   "execution_count": 246,
   "id": "af5bea6b",
   "metadata": {},
   "outputs": [
    {
     "name": "stdout",
     "output_type": "stream",
     "text": [
      "list: [1.2, 13, 9.9, 'name']\n",
      "tupple: (1.3, 8, 9.9, 'name')\n",
      "set: {1, 74, 7.6, 'name'}\n",
      "dict: {22: 'ayushi', 31: 'aman', 'college': 'iiitg'}\n"
     ]
    }
   ],
   "source": [
    "print(\"list:\",l)\n",
    "print(\"tupple:\",t)\n",
    "print(\"set:\",s)\n",
    "print(\"dict:\",d)"
   ]
  },
  {
   "cell_type": "code",
   "execution_count": 247,
   "id": "9f179236",
   "metadata": {},
   "outputs": [
    {
     "name": "stdout",
     "output_type": "stream",
     "text": [
      "9.9\n",
      "8\n",
      "True\n",
      "ayushi\n"
     ]
    }
   ],
   "source": [
    "print(l[2])\n",
    "print(t[1])\n",
    "print(74 in s)\n",
    "print(d[22])"
   ]
  },
  {
   "cell_type": "code",
   "execution_count": 248,
   "id": "b6a87763",
   "metadata": {},
   "outputs": [
    {
     "name": "stdout",
     "output_type": "stream",
     "text": [
      "['name', 9.9, 13, 1.2]\n"
     ]
    }
   ],
   "source": [
    "print(l[::-1])#reverses the list"
   ]
  },
  {
   "cell_type": "code",
   "execution_count": 249,
   "id": "e9eef8a1",
   "metadata": {
    "scrolled": true
   },
   "outputs": [
    {
     "ename": "TypeError",
     "evalue": "'set' object is not subscriptable",
     "output_type": "error",
     "traceback": [
      "\u001b[0;31m---------------------------------------------------------------------------\u001b[0m",
      "\u001b[0;31mTypeError\u001b[0m                                 Traceback (most recent call last)",
      "\u001b[0;32m/tmp/ipykernel_20602/1197900113.py\u001b[0m in \u001b[0;36m<module>\u001b[0;34m\u001b[0m\n\u001b[0;32m----> 1\u001b[0;31m \u001b[0mprint\u001b[0m\u001b[0;34m(\u001b[0m\u001b[0ms\u001b[0m\u001b[0;34m[\u001b[0m\u001b[0;34m:\u001b[0m\u001b[0;34m:\u001b[0m\u001b[0;34m-\u001b[0m\u001b[0;36m1\u001b[0m\u001b[0;34m]\u001b[0m\u001b[0;34m)\u001b[0m\u001b[0;34m\u001b[0m\u001b[0;34m\u001b[0m\u001b[0m\n\u001b[0m",
      "\u001b[0;31mTypeError\u001b[0m: 'set' object is not subscriptable"
     ]
    }
   ],
   "source": [
    "print(s[::-1])"
   ]
  },
  {
   "cell_type": "code",
   "execution_count": 250,
   "id": "25e31fb0",
   "metadata": {},
   "outputs": [
    {
     "name": "stdout",
     "output_type": "stream",
     "text": [
      "('name', 9.9, 8, 1.3)\n"
     ]
    }
   ],
   "source": [
    "print(t[::-1])"
   ]
  },
  {
   "cell_type": "code",
   "execution_count": 251,
   "id": "24b76c05",
   "metadata": {},
   "outputs": [],
   "source": [
    "t1=(1,2)\n",
    "t2=(3,2)\n",
    "t3=t1+t2"
   ]
  },
  {
   "cell_type": "code",
   "execution_count": 252,
   "id": "687988c8",
   "metadata": {},
   "outputs": [
    {
     "data": {
      "text/plain": [
       "(1, 2, 3, 2)"
      ]
     },
     "execution_count": 252,
     "metadata": {},
     "output_type": "execute_result"
    }
   ],
   "source": [
    "t3"
   ]
  },
  {
   "cell_type": "code",
   "execution_count": 253,
   "id": "d84f71f7",
   "metadata": {},
   "outputs": [
    {
     "data": {
      "text/plain": [
       "(1, 2, 3, 2)"
      ]
     },
     "execution_count": 253,
     "metadata": {},
     "output_type": "execute_result"
    }
   ],
   "source": [
    "t4=t3\n",
    "t4 "
   ]
  },
  {
   "cell_type": "markdown",
   "id": "1fbbb09b",
   "metadata": {},
   "source": [
    "s.remove(\"74\")"
   ]
  },
  {
   "cell_type": "code",
   "execution_count": 266,
   "id": "f56e54f8",
   "metadata": {},
   "outputs": [
    {
     "ename": "AttributeError",
     "evalue": "'set' object has no attribute 'Remove'",
     "output_type": "error",
     "traceback": [
      "\u001b[0;31m---------------------------------------------------------------------------\u001b[0m",
      "\u001b[0;31mAttributeError\u001b[0m                            Traceback (most recent call last)",
      "\u001b[0;32m/tmp/ipykernel_20602/4260781812.py\u001b[0m in \u001b[0;36m<module>\u001b[0;34m\u001b[0m\n\u001b[1;32m      1\u001b[0m \u001b[0ms\u001b[0m\u001b[0;34m.\u001b[0m\u001b[0mremove\u001b[0m\u001b[0;34m(\u001b[0m\u001b[0;34m\"name\"\u001b[0m\u001b[0;34m)\u001b[0m\u001b[0;34m\u001b[0m\u001b[0;34m\u001b[0m\u001b[0m\n\u001b[1;32m      2\u001b[0m \u001b[0ms\u001b[0m\u001b[0;34m\u001b[0m\u001b[0;34m\u001b[0m\u001b[0m\n\u001b[0;32m----> 3\u001b[0;31m \u001b[0ms\u001b[0m\u001b[0;34m.\u001b[0m\u001b[0mRemove\u001b[0m\u001b[0;34m(\u001b[0m\u001b[0;36m7.6\u001b[0m\u001b[0;34m)\u001b[0m\u001b[0;34m\u001b[0m\u001b[0;34m\u001b[0m\u001b[0m\n\u001b[0m\u001b[1;32m      4\u001b[0m \u001b[0ms\u001b[0m\u001b[0;34m\u001b[0m\u001b[0;34m\u001b[0m\u001b[0m\n",
      "\u001b[0;31mAttributeError\u001b[0m: 'set' object has no attribute 'Remove'"
     ]
    }
   ],
   "source": [
    "s.remove(\"name\")\n",
    "s\n",
    "s.Remove(7.6)\n",
    "s"
   ]
  },
  {
   "cell_type": "code",
   "execution_count": 267,
   "id": "61a9f92c",
   "metadata": {},
   "outputs": [
    {
     "data": {
      "text/plain": [
       "{22: 'ayushi', 31: 'aman'}"
      ]
     },
     "execution_count": 267,
     "metadata": {},
     "output_type": "execute_result"
    }
   ],
   "source": [
    "del d[\"college\"]\n",
    "d"
   ]
  },
  {
   "cell_type": "code",
   "execution_count": 270,
   "id": "9c073af2",
   "metadata": {},
   "outputs": [
    {
     "data": {
      "text/plain": [
       "{'a': 'aman', 's': 'shivani'}"
      ]
     },
     "execution_count": 270,
     "metadata": {},
     "output_type": "execute_result"
    }
   ],
   "source": [
    "d1={\"a\":\"aman\"}\n",
    "d2={\"s\":\"shivani\"}\n",
    "#d1=d1+d2 will not concat\n",
    "d1.update(d2)\n",
    "d1"
   ]
  },
  {
   "cell_type": "code",
   "execution_count": 286,
   "id": "06b900f4",
   "metadata": {},
   "outputs": [
    {
     "name": "stdout",
     "output_type": "stream",
     "text": [
      "[4, 65, 2.3, 656]\n",
      "[4, 98, 2.3, 656]\n",
      "[4, 65, 2.3, 656]\n"
     ]
    }
   ],
   "source": [
    "l=[4,3453,2.3,656]\n",
    "l3=l  #l and l3 repressenting same memory ##call by reference\n",
    "l2=l.copy() #l2 represents different memory but same elements as l ##call bye value\n",
    "l2[1]=98\n",
    "l3[1]=65\n",
    "print(l3)\n",
    "print(l2)\n",
    "print(l)"
   ]
  },
  {
   "cell_type": "code",
   "execution_count": 287,
   "id": "8e351ae4",
   "metadata": {},
   "outputs": [
    {
     "data": {
      "text/plain": [
       "[4, 65, 2.3]"
      ]
     },
     "execution_count": 287,
     "metadata": {},
     "output_type": "execute_result"
    }
   ],
   "source": [
    "#slicing i is saved as copy\n",
    "L=l[:3]\n",
    "L"
   ]
  },
  {
   "cell_type": "code",
   "execution_count": 288,
   "id": "e820660a",
   "metadata": {},
   "outputs": [
    {
     "name": "stdout",
     "output_type": "stream",
     "text": [
      "[4, 65, 2.3, 656]\n"
     ]
    },
    {
     "data": {
      "text/plain": [
       "[4, 59874, 2.3]"
      ]
     },
     "execution_count": 288,
     "metadata": {},
     "output_type": "execute_result"
    }
   ],
   "source": [
    "L[1]=59874\n",
    "print(l)\n",
    "L"
   ]
  },
  {
   "cell_type": "code",
   "execution_count": 289,
   "id": "df2c05fb",
   "metadata": {},
   "outputs": [],
   "source": [
    "#l.clear()"
   ]
  },
  {
   "cell_type": "code",
   "execution_count": 290,
   "id": "8c3acd00",
   "metadata": {},
   "outputs": [
    {
     "data": {
      "text/plain": [
       "[4, 65, 2.3, 656]"
      ]
     },
     "execution_count": 290,
     "metadata": {},
     "output_type": "execute_result"
    }
   ],
   "source": [
    "l"
   ]
  },
  {
   "cell_type": "code",
   "execution_count": 291,
   "id": "e0e5b4d4",
   "metadata": {},
   "outputs": [],
   "source": [
    "D={\"list\":l,'set':s}"
   ]
  },
  {
   "cell_type": "code",
   "execution_count": 300,
   "id": "51ef9330",
   "metadata": {},
   "outputs": [
    {
     "name": "stdout",
     "output_type": "stream",
     "text": [
      "65 of [4, 65, 2.3, 656]\n"
     ]
    }
   ],
   "source": [
    "print(D['list'][1],\"of\",D['list'])"
   ]
  },
  {
   "cell_type": "code",
   "execution_count": 295,
   "id": "127659b7",
   "metadata": {},
   "outputs": [
    {
     "data": {
      "text/plain": [
       "{1, 7.6, 74}"
      ]
     },
     "execution_count": 295,
     "metadata": {},
     "output_type": "execute_result"
    }
   ],
   "source": [
    "D['set']"
   ]
  },
  {
   "cell_type": "code",
   "execution_count": 314,
   "id": "9290b7ee",
   "metadata": {},
   "outputs": [
    {
     "name": "stdout",
     "output_type": "stream",
     "text": [
      "[ 4  7 90  4] [ 4  7 90  4]\n",
      "[ 5  7 90  4]\n",
      "[ 4  7 90  4]\n",
      "<class 'numpy.ndarray'>\n"
     ]
    }
   ],
   "source": [
    "import numpy as np\n",
    "a=np.array([4,7,90,4])\n",
    "b=a.copy() # 1.b=a.copy() 2.b=a \n",
    "print(a,b)\n",
    "b[0]=5\n",
    "print(b)\n",
    "print(a)\n",
    "print(type(a))\n"
   ]
  },
  {
   "cell_type": "code",
   "execution_count": 316,
   "id": "552c1726",
   "metadata": {},
   "outputs": [
    {
     "data": {
      "text/plain": [
       "dtype('int64')"
      ]
     },
     "execution_count": 316,
     "metadata": {},
     "output_type": "execute_result"
    }
   ],
   "source": [
    "a.dtype"
   ]
  },
  {
   "cell_type": "code",
   "execution_count": 357,
   "id": "cb3fea5f",
   "metadata": {},
   "outputs": [],
   "source": [
    "d=np.array(([[98,89,45.5],[54,54,78]],[[65,43,32],[65,7,43]]),dtype='f')"
   ]
  },
  {
   "cell_type": "code",
   "execution_count": 358,
   "id": "4c9d56d5",
   "metadata": {},
   "outputs": [
    {
     "data": {
      "text/plain": [
       "array([[[98. , 89. , 45.5],\n",
       "        [54. , 54. , 78. ]],\n",
       "\n",
       "       [[65. , 43. , 32. ],\n",
       "        [65. ,  7. , 43. ]]], dtype=float32)"
      ]
     },
     "execution_count": 358,
     "metadata": {},
     "output_type": "execute_result"
    }
   ],
   "source": [
    "d"
   ]
  },
  {
   "cell_type": "code",
   "execution_count": 359,
   "id": "6c530695",
   "metadata": {},
   "outputs": [
    {
     "data": {
      "text/plain": [
       "3"
      ]
     },
     "execution_count": 359,
     "metadata": {},
     "output_type": "execute_result"
    }
   ],
   "source": [
    "d.ndim"
   ]
  },
  {
   "cell_type": "code",
   "execution_count": 360,
   "id": "ab1d2f31",
   "metadata": {},
   "outputs": [
    {
     "data": {
      "text/plain": [
       "43.0"
      ]
     },
     "execution_count": 360,
     "metadata": {},
     "output_type": "execute_result"
    }
   ],
   "source": [
    "d[1,1,2]"
   ]
  },
  {
   "cell_type": "code",
   "execution_count": 361,
   "id": "b42ac402",
   "metadata": {},
   "outputs": [
    {
     "data": {
      "text/plain": [
       "(2, 2, 3)"
      ]
     },
     "execution_count": 361,
     "metadata": {},
     "output_type": "execute_result"
    }
   ],
   "source": [
    "d.shape\n"
   ]
  },
  {
   "cell_type": "code",
   "execution_count": 362,
   "id": "72959654",
   "metadata": {},
   "outputs": [
    {
     "data": {
      "text/plain": [
       "0"
      ]
     },
     "execution_count": 362,
     "metadata": {},
     "output_type": "execute_result"
    }
   ],
   "source": [
    "B=np.array(3) # not array\n",
    "B.ndim"
   ]
  },
  {
   "cell_type": "code",
   "execution_count": 363,
   "id": "3ac1dada",
   "metadata": {},
   "outputs": [
    {
     "data": {
      "text/plain": [
       "12"
      ]
     },
     "execution_count": 363,
     "metadata": {},
     "output_type": "execute_result"
    }
   ],
   "source": [
    "d.size"
   ]
  },
  {
   "cell_type": "code",
   "execution_count": 364,
   "id": "37338288",
   "metadata": {},
   "outputs": [],
   "source": [
    "f=np.arange(20,55,5)"
   ]
  },
  {
   "cell_type": "code",
   "execution_count": 365,
   "id": "f16801ca",
   "metadata": {},
   "outputs": [
    {
     "data": {
      "text/plain": [
       "array([20, 25, 30, 35, 40, 45, 50])"
      ]
     },
     "execution_count": 365,
     "metadata": {},
     "output_type": "execute_result"
    }
   ],
   "source": [
    "f"
   ]
  },
  {
   "cell_type": "code",
   "execution_count": 366,
   "id": "378d2605",
   "metadata": {},
   "outputs": [
    {
     "name": "stdout",
     "output_type": "stream",
     "text": [
      "range(0, 10)\n",
      "[0, 1, 2, 3, 4, 5, 6, 7, 8, 9]\n"
     ]
    }
   ],
   "source": [
    "print(range(10))\n",
    "print(list(range(10)))"
   ]
  },
  {
   "cell_type": "code",
   "execution_count": 370,
   "id": "44944d6c",
   "metadata": {},
   "outputs": [
    {
     "data": {
      "text/plain": [
       "array([2, 4, 6, 0, 7, 8, 9, 1, 5, 3])"
      ]
     },
     "execution_count": 370,
     "metadata": {},
     "output_type": "execute_result"
    }
   ],
   "source": [
    "np.random.permutation(list(range(10)))"
   ]
  },
  {
   "cell_type": "code",
   "execution_count": 371,
   "id": "7f415edc",
   "metadata": {},
   "outputs": [
    {
     "data": {
      "text/plain": [
       "array([17, 46, 29, 35, 33, 18, 23, 48, 14, 11])"
      ]
     },
     "execution_count": 371,
     "metadata": {},
     "output_type": "execute_result"
    }
   ],
   "source": [
    "np.random.randint(10,50,10)"
   ]
  },
  {
   "cell_type": "code",
   "execution_count": 387,
   "id": "cf46fd3c",
   "metadata": {},
   "outputs": [
    {
     "name": "stdout",
     "output_type": "stream",
     "text": [
      "40\n",
      "[[0.18421317 0.77951763]]\n"
     ]
    }
   ],
   "source": [
    "print(np.random.randint(10,50))\n",
    "print(np.random.rand(1,2))"
   ]
  },
  {
   "cell_type": "code",
   "execution_count": 373,
   "id": "32e40772",
   "metadata": {},
   "outputs": [],
   "source": [
    "np.random.randint?\n"
   ]
  },
  {
   "cell_type": "code",
   "execution_count": 375,
   "id": "b99f5041",
   "metadata": {},
   "outputs": [
    {
     "data": {
      "text/plain": [
       "array([36, 12, 10, 30, 32, 33, 26, 40, 31, 31])"
      ]
     },
     "execution_count": 375,
     "metadata": {},
     "output_type": "execute_result"
    }
   ],
   "source": [
    "A=np.random.randint(10,50,10)\n",
    "A"
   ]
  },
  {
   "cell_type": "code",
   "execution_count": 383,
   "id": "742226ec",
   "metadata": {},
   "outputs": [
    {
     "data": {
      "text/plain": [
       "array([[36, 12, 10, 30, 32],\n",
       "       [33, 26, 40, 31, 31]])"
      ]
     },
     "execution_count": 383,
     "metadata": {},
     "output_type": "execute_result"
    }
   ],
   "source": [
    "A.reshape(2,5) #reshape(row,column)"
   ]
  },
  {
   "cell_type": "code",
   "execution_count": null,
   "id": "2543399b",
   "metadata": {},
   "outputs": [],
   "source": []
  }
 ],
 "metadata": {
  "kernelspec": {
   "display_name": "Python 3 (ipykernel)",
   "language": "python",
   "name": "python3"
  },
  "language_info": {
   "codemirror_mode": {
    "name": "ipython",
    "version": 3
   },
   "file_extension": ".py",
   "mimetype": "text/x-python",
   "name": "python",
   "nbconvert_exporter": "python",
   "pygments_lexer": "ipython3",
   "version": "3.9.10"
  }
 },
 "nbformat": 4,
 "nbformat_minor": 5
}
